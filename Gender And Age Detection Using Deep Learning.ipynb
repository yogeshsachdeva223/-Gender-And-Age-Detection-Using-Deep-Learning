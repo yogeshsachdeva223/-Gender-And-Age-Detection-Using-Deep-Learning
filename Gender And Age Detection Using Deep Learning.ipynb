{
 "cells": [
  {
   "cell_type": "code",
   "execution_count": 6,
   "id": "0bcaf6ca",
   "metadata": {},
   "outputs": [],
   "source": [
    "import pandas as pd\n",
    "import numpy as np\n",
    "import os\n",
    "import matplotlib.pyplot as plt\n",
    "import cv2\n",
    "from keras.models import Sequential,load_model,Model\n",
    "from keras.layers import Conv2D,MaxPool2D,Dense,Dropout,BatchNormalization,Flatten,Input\n",
    "from keras.preprocessing.image import ImageDataGenerator\n",
    "from sklearn.model_selection import train_test_split"
   ]
  },
  {
   "cell_type": "code",
   "execution_count": 2,
   "id": "382232bc",
   "metadata": {},
   "outputs": [],
   "source": [
    "path = \"UTKFace\""
   ]
  },
  {
   "cell_type": "code",
   "execution_count": 3,
   "id": "e144c87d",
   "metadata": {},
   "outputs": [],
   "source": [
    "images = []\n",
    "age = []\n",
    "gender = []"
   ]
  },
  {
   "cell_type": "code",
   "execution_count": 4,
   "id": "9e401f5f",
   "metadata": {},
   "outputs": [],
   "source": [
    "for img in os.listdir(path):\n",
    "  ages = img.split(\"_\")[0]\n",
    "  genders = img.split(\"_\")[1]\n",
    "  img = cv2.imread(str(path)+\"/\"+str(img))\n",
    "  img = cv2.cvtColor(img,cv2.COLOR_BGR2RGB)\n",
    "  images.append(np.array(img))\n",
    "  age.append(np.array(ages))\n",
    "  gender.append(np.array(genders))"
   ]
  },
  {
   "cell_type": "code",
   "execution_count": 7,
   "id": "05d231e1",
   "metadata": {},
   "outputs": [],
   "source": [
    "age = np.array(age,dtype=np.int64)\n",
    "images = np.array(images)\n",
    "ImageDataGenerator(rescale = 1./255)\n",
    "gender = np.array(gender,np.uint64)"
   ]
  },
  {
   "cell_type": "code",
   "execution_count": 8,
   "id": "d0807e64",
   "metadata": {},
   "outputs": [],
   "source": [
    "x_train_age, x_test_age, y_train_age, y_test_age = train_test_split(images, age, random_state=42)"
   ]
  },
  {
   "cell_type": "code",
   "execution_count": 9,
   "id": "aa3b310d",
   "metadata": {},
   "outputs": [],
   "source": [
    "x_train_gender, x_test_gender, y_train_gender, y_test_gender = train_test_split(images, gender, random_state=42)"
   ]
  },
  {
   "cell_type": "code",
   "execution_count": 10,
   "id": "a7ac7551",
   "metadata": {},
   "outputs": [],
   "source": [
    "#Define age model and train."
   ]
  },
  {
   "cell_type": "code",
   "execution_count": 11,
   "id": "b6ce39e3",
   "metadata": {},
   "outputs": [],
   "source": [
    "age_model = Sequential()\n",
    "age_model.add(Conv2D(128, kernel_size=3, activation='relu', input_shape=(200,200,3)))\n",
    "#age_model.add(Conv2D(128, kernel_size=3, activation='relu'))\n",
    "age_model.add(MaxPool2D(pool_size=3, strides=2))"
   ]
  },
  {
   "cell_type": "code",
   "execution_count": 12,
   "id": "b2a6a8f8",
   "metadata": {},
   "outputs": [],
   "source": [
    "age_model.add(Conv2D(128, kernel_size=3, activation='relu'))\n",
    "#age_model.add(Conv2D(128, kernel_size=3, activation='relu'))\n",
    "age_model.add(MaxPool2D(pool_size=3, strides=2))"
   ]
  },
  {
   "cell_type": "code",
   "execution_count": 13,
   "id": "853ac041",
   "metadata": {},
   "outputs": [],
   "source": [
    "age_model.add(Conv2D(256, kernel_size=3, activation='relu'))\n",
    "#age_model.add(Conv2D(256, kernel_size=3, activation='relu'))\n",
    "age_model.add(MaxPool2D(pool_size=3, strides=2))"
   ]
  },
  {
   "cell_type": "code",
   "execution_count": 14,
   "id": "0341660d",
   "metadata": {},
   "outputs": [],
   "source": [
    "age_model.add(Conv2D(512, kernel_size=3, activation='relu'))\n",
    "#age_model.add(Conv2D(512, kernel_size=3, activation='relu'))\n",
    "age_model.add(MaxPool2D(pool_size=3, strides=2))"
   ]
  },
  {
   "cell_type": "code",
   "execution_count": 15,
   "id": "8f6254f0",
   "metadata": {},
   "outputs": [],
   "source": [
    "age_model.add(Flatten())\n",
    "age_model.add(Dropout(0.2))\n",
    "age_model.add(Dense(512, activation='relu'))"
   ]
  },
  {
   "cell_type": "code",
   "execution_count": 16,
   "id": "b2ad8158",
   "metadata": {},
   "outputs": [],
   "source": [
    "age_model.add(Dense(1, activation='linear', name='age'))"
   ]
  },
  {
   "cell_type": "code",
   "execution_count": 17,
   "id": "721657fd",
   "metadata": {},
   "outputs": [
    {
     "name": "stdout",
     "output_type": "stream",
     "text": [
      "Model: \"sequential\"\n",
      "_________________________________________________________________\n",
      " Layer (type)                Output Shape              Param #   \n",
      "=================================================================\n",
      " conv2d (Conv2D)             (None, 198, 198, 128)     3584      \n",
      "                                                                 \n",
      " max_pooling2d (MaxPooling2D  (None, 98, 98, 128)      0         \n",
      " )                                                               \n",
      "                                                                 \n",
      " conv2d_1 (Conv2D)           (None, 96, 96, 128)       147584    \n",
      "                                                                 \n",
      " max_pooling2d_1 (MaxPooling  (None, 47, 47, 128)      0         \n",
      " 2D)                                                             \n",
      "                                                                 \n",
      " conv2d_2 (Conv2D)           (None, 45, 45, 256)       295168    \n",
      "                                                                 \n",
      " max_pooling2d_2 (MaxPooling  (None, 22, 22, 256)      0         \n",
      " 2D)                                                             \n",
      "                                                                 \n",
      " conv2d_3 (Conv2D)           (None, 20, 20, 512)       1180160   \n",
      "                                                                 \n",
      " max_pooling2d_3 (MaxPooling  (None, 9, 9, 512)        0         \n",
      " 2D)                                                             \n",
      "                                                                 \n",
      " flatten (Flatten)           (None, 41472)             0         \n",
      "                                                                 \n",
      " dropout (Dropout)           (None, 41472)             0         \n",
      "                                                                 \n",
      " dense (Dense)               (None, 512)               21234176  \n",
      "                                                                 \n",
      " age (Dense)                 (None, 1)                 513       \n",
      "                                                                 \n",
      "=================================================================\n",
      "Total params: 22,861,185\n",
      "Trainable params: 22,861,185\n",
      "Non-trainable params: 0\n",
      "_________________________________________________________________\n",
      "None\n"
     ]
    }
   ],
   "source": [
    "age_model.compile(optimizer='adam', loss='mse', metrics=['mae'])\n",
    "print(age_model.summary())   "
   ]
  },
  {
   "cell_type": "code",
   "execution_count": 18,
   "id": "728578fa",
   "metadata": {},
   "outputs": [
    {
     "name": "stdout",
     "output_type": "stream",
     "text": [
      "Epoch 1/10\n",
      "83/83 [==============================] - 487s 6s/step - loss: 415908.6250 - mae: 78.2224 - val_loss: 191.1327 - val_mae: 7.1798\n",
      "Epoch 2/10\n",
      "83/83 [==============================] - 537s 6s/step - loss: 87.1915 - mae: 5.0474 - val_loss: 160.2930 - val_mae: 5.5433\n",
      "Epoch 3/10\n",
      "83/83 [==============================] - 554s 7s/step - loss: 83.7605 - mae: 4.8507 - val_loss: 146.0383 - val_mae: 5.5716\n",
      "Epoch 4/10\n",
      "83/83 [==============================] - 593s 7s/step - loss: 77.9619 - mae: 4.4951 - val_loss: 145.9258 - val_mae: 4.8118\n",
      "Epoch 5/10\n",
      "83/83 [==============================] - 568s 7s/step - loss: 75.1413 - mae: 4.4212 - val_loss: 148.1063 - val_mae: 5.6168\n",
      "Epoch 6/10\n",
      "83/83 [==============================] - 584s 7s/step - loss: 77.1960 - mae: 4.5993 - val_loss: 140.7266 - val_mae: 5.1416\n",
      "Epoch 7/10\n",
      "83/83 [==============================] - 566s 7s/step - loss: 73.0600 - mae: 4.3745 - val_loss: 155.1903 - val_mae: 5.3242\n",
      "Epoch 8/10\n",
      "83/83 [==============================] - 555s 7s/step - loss: 70.9660 - mae: 4.3106 - val_loss: 136.7938 - val_mae: 4.9064\n",
      "Epoch 9/10\n",
      "83/83 [==============================] - 556s 7s/step - loss: 70.7230 - mae: 4.3369 - val_loss: 143.6427 - val_mae: 4.8829\n",
      "Epoch 10/10\n",
      "83/83 [==============================] - 488s 6s/step - loss: 70.1671 - mae: 4.3862 - val_loss: 146.2862 - val_mae: 6.7121\n"
     ]
    }
   ],
   "source": [
    "history_age = age_model.fit(x_train_age, y_train_age,\n",
    "                        validation_data=(x_test_age, y_test_age), epochs=10)"
   ]
  },
  {
   "cell_type": "code",
   "execution_count": 19,
   "id": "e4cc56cb",
   "metadata": {},
   "outputs": [],
   "source": [
    "age_model.save('age_model_10epochs.h5')"
   ]
  },
  {
   "cell_type": "code",
   "execution_count": 20,
   "id": "a8b53840",
   "metadata": {},
   "outputs": [],
   "source": [
    "#Define gender model and train"
   ]
  },
  {
   "cell_type": "code",
   "execution_count": 64,
   "id": "ab9eb4de",
   "metadata": {},
   "outputs": [],
   "source": [
    "gender_model = Sequential()"
   ]
  },
  {
   "cell_type": "code",
   "execution_count": 65,
   "id": "0b0a3ab6",
   "metadata": {},
   "outputs": [],
   "source": [
    "gender_model.add(Conv2D(36, kernel_size=3, activation='relu', input_shape=(200,200,3)))"
   ]
  },
  {
   "cell_type": "code",
   "execution_count": 66,
   "id": "9d2112a1",
   "metadata": {},
   "outputs": [],
   "source": [
    "gender_model.add(MaxPool2D(pool_size=3, strides=2))\n",
    "gender_model.add(Conv2D(64, kernel_size=3, activation='relu'))\n",
    "gender_model.add(MaxPool2D(pool_size=3, strides=2))"
   ]
  },
  {
   "cell_type": "code",
   "execution_count": 67,
   "id": "00d1069f",
   "metadata": {},
   "outputs": [],
   "source": [
    "gender_model.add(Conv2D(128, kernel_size=3, activation='relu'))\n",
    "gender_model.add(MaxPool2D(pool_size=3, strides=2))"
   ]
  },
  {
   "cell_type": "code",
   "execution_count": 68,
   "id": "093692b6",
   "metadata": {},
   "outputs": [],
   "source": [
    "gender_model.add(Conv2D(256, kernel_size=3, activation='relu'))\n",
    "gender_model.add(MaxPool2D(pool_size=3, strides=2))"
   ]
  },
  {
   "cell_type": "code",
   "execution_count": 69,
   "id": "478c53c5",
   "metadata": {},
   "outputs": [],
   "source": [
    "gender_model.add(Conv2D(512, kernel_size=3, activation='relu'))\n",
    "gender_model.add(MaxPool2D(pool_size=3, strides=2))"
   ]
  },
  {
   "cell_type": "code",
   "execution_count": 70,
   "id": "61c51ff7",
   "metadata": {},
   "outputs": [],
   "source": [
    "gender_model.add(Flatten())\n",
    "gender_model.add(Dropout(0.2))\n",
    "gender_model.add(Dense(512, activation='relu'))\n",
    "gender_model.add(Dense(1, activation='sigmoid', name='gender'))"
   ]
  },
  {
   "cell_type": "code",
   "execution_count": 71,
   "id": "55ad6847",
   "metadata": {},
   "outputs": [],
   "source": [
    "gender_model.compile(optimizer='adam', loss='binary_crossentropy', metrics=['accuracy'])"
   ]
  },
  {
   "cell_type": "code",
   "execution_count": 72,
   "id": "7636ed4d",
   "metadata": {},
   "outputs": [
    {
     "name": "stdout",
     "output_type": "stream",
     "text": [
      "Epoch 1/10\n",
      "83/83 [==============================] - 142s 2s/step - loss: 3.1350 - accuracy: 0.5521 - val_loss: 0.6336 - val_accuracy: 0.6380\n",
      "Epoch 2/10\n",
      "83/83 [==============================] - 148s 2s/step - loss: 0.6449 - accuracy: 0.6264 - val_loss: 0.6289 - val_accuracy: 0.6369\n",
      "Epoch 3/10\n",
      "83/83 [==============================] - 152s 2s/step - loss: 0.6494 - accuracy: 0.6143 - val_loss: 0.6646 - val_accuracy: 0.5124\n",
      "Epoch 4/10\n",
      "83/83 [==============================] - 154s 2s/step - loss: 0.6390 - accuracy: 0.6396 - val_loss: 0.6405 - val_accuracy: 0.6561\n",
      "Epoch 5/10\n",
      "83/83 [==============================] - 157s 2s/step - loss: 0.7231 - accuracy: 0.5762 - val_loss: 0.6311 - val_accuracy: 0.6629\n",
      "Epoch 6/10\n",
      "83/83 [==============================] - 155s 2s/step - loss: 0.6368 - accuracy: 0.6340 - val_loss: 0.6394 - val_accuracy: 0.6606\n",
      "Epoch 7/10\n",
      "83/83 [==============================] - 157s 2s/step - loss: 0.6274 - accuracy: 0.6479 - val_loss: 0.6259 - val_accuracy: 0.6312\n",
      "Epoch 8/10\n",
      "83/83 [==============================] - 156s 2s/step - loss: 0.6087 - accuracy: 0.6566 - val_loss: 0.6136 - val_accuracy: 0.6708\n",
      "Epoch 9/10\n",
      "83/83 [==============================] - 149s 2s/step - loss: 0.5961 - accuracy: 0.6751 - val_loss: 0.6168 - val_accuracy: 0.6595\n",
      "Epoch 10/10\n",
      "83/83 [==============================] - 148s 2s/step - loss: 0.5956 - accuracy: 0.6777 - val_loss: 0.6161 - val_accuracy: 0.6652\n"
     ]
    }
   ],
   "source": [
    "history_gender = gender_model.fit(x_train_gender, y_train_gender,\n",
    "                        validation_data=(x_test_gender, y_test_gender), epochs=10)"
   ]
  },
  {
   "cell_type": "code",
   "execution_count": 73,
   "id": "7f67bc9f",
   "metadata": {},
   "outputs": [],
   "source": [
    "gender_model.save('gender_model_10epochs.h5')"
   ]
  },
  {
   "cell_type": "code",
   "execution_count": 74,
   "id": "a687b6d8",
   "metadata": {},
   "outputs": [],
   "source": [
    "history = history_age"
   ]
  },
  {
   "cell_type": "code",
   "execution_count": 75,
   "id": "2c0c2171",
   "metadata": {},
   "outputs": [],
   "source": [
    "#plot the training and validation accuracy and loss at each epoch"
   ]
  },
  {
   "cell_type": "code",
   "execution_count": 79,
   "id": "d3d55666",
   "metadata": {},
   "outputs": [
    {
     "data": {
      "image/png": "[encoded data removed]",
      "text/plain": [
       "<Figure size 432x288 with 1 Axes>"
      ]
     },
     "metadata": {
      "needs_background": "light"
     },
     "output_type": "display_data"
    }
   ],
   "source": [
    "loss = history.history['loss']\n",
    "val_loss = history.history['val_loss']\n",
    "epochs = range(1, len(loss) + 1)\n",
    "plt.plot(epochs, loss, 'y', label='Training loss')\n",
    "plt.plot(epochs, val_loss, 'r', label='Validation loss')\n",
    "plt.title('Training and validation loss')\n",
    "plt.xlabel('Epochs')\n",
    "plt.ylabel('Loss')\n",
    "plt.legend()\n",
    "plt.show()"
   ]
  },
  {
   "cell_type": "code",
   "execution_count": 91,
   "id": "fe490209",
   "metadata": {},
   "outputs": [
    {
     "name": "stdout",
     "output_type": "stream",
     "text": [
      "dict_keys(['loss', 'mae', 'val_loss', 'val_mae'])\n"
     ]
    }
   ],
   "source": [
    "history_dict = history.history\n",
    "print(history_dict.keys())"
   ]
  },
  {
   "cell_type": "code",
   "execution_count": 93,
   "id": "e6e8befd",
   "metadata": {},
   "outputs": [],
   "source": [
    "acc = history.history['mae']\n",
    "val_acc = history.history['val_mae']"
   ]
  },
  {
   "cell_type": "code",
   "execution_count": 94,
   "id": "c31f2962",
   "metadata": {},
   "outputs": [
    {
     "data": {
      "image/png": "[encoded data removed]",
      "text/plain": [
       "<Figure size 432x288 with 1 Axes>"
      ]
     },
     "metadata": {
      "needs_background": "light"
     },
     "output_type": "display_data"
    }
   ],
   "source": [
    "plt.plot(epochs, acc, 'y', label='Training acc')\n",
    "plt.plot(epochs, val_acc, 'r', label='Validation acc')\n",
    "plt.title('Training and validation accuracy')\n",
    "plt.xlabel('Epochs')\n",
    "plt.ylabel('Accuracy')\n",
    "plt.legend()\n",
    "plt.show()"
   ]
  },
  {
   "cell_type": "code",
   "execution_count": 95,
   "id": "90236948",
   "metadata": {},
   "outputs": [],
   "source": [
    "from keras.models import load_model\n",
    "#Test the model\n",
    "my_model = load_model('gender_model_10epochs.h5', compile=False)"
   ]
  },
  {
   "cell_type": "code",
   "execution_count": 96,
   "id": "d4c79464",
   "metadata": {},
   "outputs": [
    {
     "name": "stdout",
     "output_type": "stream",
     "text": [
      "28/28 [==============================] - 10s 351ms/step\n"
     ]
    }
   ],
   "source": [
    "predictions = my_model.predict(x_test_gender)\n",
    "y_pred = (predictions>= 0.5).astype(int)[:,0]"
   ]
  },
  {
   "cell_type": "code",
   "execution_count": 97,
   "id": "c9a1ffe2",
   "metadata": {},
   "outputs": [
    {
     "name": "stdout",
     "output_type": "stream",
     "text": [
      "Accuracy =  0.665158371040724\n"
     ]
    }
   ],
   "source": [
    "from sklearn import metrics\n",
    "print (\"Accuracy = \", metrics.accuracy_score(y_test_gender, y_pred))"
   ]
  },
  {
   "cell_type": "code",
   "execution_count": 98,
   "id": "48f1354c",
   "metadata": {},
   "outputs": [
    {
     "data": {
      "text/plain": [
       "<AxesSubplot:>"
      ]
     },
     "execution_count": 98,
     "metadata": {},
     "output_type": "execute_result"
    },
    {
     "data": {
      "image/png": "[encoded data removed]",
      "text/plain": [
       "<Figure size 432x288 with 2 Axes>"
      ]
     },
     "metadata": {
      "needs_background": "light"
     },
     "output_type": "display_data"
    }
   ],
   "source": [
    "#Confusion Matrix - verify accuracy of each class\n",
    "from sklearn.metrics import confusion_matrix\n",
    "import seaborn as sns\n",
    "cm=confusion_matrix(y_test_gender, y_pred)  \n",
    "sns.heatmap(cm, annot=True)"
   ]
  },
  {
   "cell_type": "code",
   "execution_count": null,
   "id": "025fa421",
   "metadata": {},
   "outputs": [],
   "source": []
  }
 ],
 "metadata": {
  "kernelspec": {
   "display_name": "Python 3",
   "language": "python",
   "name": "python3"
  },
  "language_info": {
   "codemirror_mode": {
    "name": "ipython",
    "version": 3
   },
   "file_extension": ".py",
   "mimetype": "text/x-python",
   "name": "python",
   "nbconvert_exporter": "python",
   "pygments_lexer": "ipython3",
   "version": "3.8.8"
  }
 },
 "nbformat": 4,
 "nbformat_minor": 5
}
